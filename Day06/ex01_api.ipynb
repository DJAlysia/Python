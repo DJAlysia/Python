{
 "cells": [
  {
   "attachments": {},
   "cell_type": "markdown",
   "metadata": {},
   "source": [
    "### 정적 페이지 크롤링하기 - 공공데이터"
   ]
  },
  {
   "cell_type": "code",
   "execution_count": 3,
   "metadata": {},
   "outputs": [
    {
     "name": "stdout",
     "output_type": "stream",
     "text": [
      "서울 : <tmn>22</tmn> ~ <tmx>29</tmx>\n",
      "인천 : <tmn>22</tmn> ~ <tmx>27</tmx>\n",
      "수원 : <tmn>22</tmn> ~ <tmx>28</tmx>\n",
      "파주 : <tmn>21</tmn> ~ <tmx>29</tmx>\n",
      "이천 : <tmn>22</tmn> ~ <tmx>29</tmx>\n",
      "평택 : <tmn>22</tmn> ~ <tmx>30</tmx>\n",
      "춘천 : <tmn>22</tmn> ~ <tmx>30</tmx>\n",
      "원주 : <tmn>22</tmn> ~ <tmx>29</tmx>\n",
      "강릉 : <tmn>24</tmn> ~ <tmx>30</tmx>\n",
      "대전 : <tmn>23</tmn> ~ <tmx>29</tmx>\n",
      "세종 : <tmn>23</tmn> ~ <tmx>29</tmx>\n",
      "홍성 : <tmn>23</tmn> ~ <tmx>28</tmx>\n",
      "청주 : <tmn>23</tmn> ~ <tmx>30</tmx>\n",
      "충주 : <tmn>22</tmn> ~ <tmx>30</tmx>\n",
      "영동 : <tmn>22</tmn> ~ <tmx>30</tmx>\n",
      "광주 : <tmn>23</tmn> ~ <tmx>29</tmx>\n",
      "목포 : <tmn>23</tmn> ~ <tmx>27</tmx>\n",
      "여수 : <tmn>23</tmn> ~ <tmx>26</tmx>\n",
      "순천 : <tmn>24</tmn> ~ <tmx>28</tmx>\n",
      "광양 : <tmn>23</tmn> ~ <tmx>28</tmx>\n",
      "나주 : <tmn>23</tmn> ~ <tmx>28</tmx>\n",
      "전주 : <tmn>24</tmn> ~ <tmx>29</tmx>\n",
      "군산 : <tmn>23</tmn> ~ <tmx>27</tmx>\n",
      "정읍 : <tmn>23</tmn> ~ <tmx>29</tmx>\n",
      "남원 : <tmn>23</tmn> ~ <tmx>29</tmx>\n",
      "고창 : <tmn>23</tmn> ~ <tmx>28</tmx>\n",
      "무주 : <tmn>23</tmn> ~ <tmx>29</tmx>\n",
      "부산 : <tmn>23</tmn> ~ <tmx>27</tmx>\n",
      "울산 : <tmn>24</tmn> ~ <tmx>28</tmx>\n",
      "창원 : <tmn>23</tmn> ~ <tmx>28</tmx>\n",
      "진주 : <tmn>23</tmn> ~ <tmx>29</tmx>\n",
      "거창 : <tmn>23</tmn> ~ <tmx>29</tmx>\n",
      "통영 : <tmn>22</tmn> ~ <tmx>26</tmx>\n",
      "대구 : <tmn>24</tmn> ~ <tmx>31</tmx>\n",
      "안동 : <tmn>23</tmn> ~ <tmx>30</tmx>\n",
      "포항 : <tmn>25</tmn> ~ <tmx>30</tmx>\n",
      "경주 : <tmn>24</tmn> ~ <tmx>30</tmx>\n",
      "울진 : <tmn>22</tmn> ~ <tmx>28</tmx>\n",
      "울릉도 : <tmn>22</tmn> ~ <tmx>27</tmx>\n",
      "제주 : <tmn>25</tmn> ~ <tmx>29</tmx>\n",
      "서귀포 : <tmn>24</tmn> ~ <tmx>26</tmx>\n"
     ]
    }
   ],
   "source": [
    "from bs4 import BeautifulSoup\n",
    "import urllib.request as req\n",
    "\n",
    "url = \"http://www.kma.go.kr/weather/forecast/mid-term-rss3.jsp\"\n",
    "filename = \"forecast.xml\"\n",
    "req.urlretrieve(url, filename)\n",
    "\n",
    "# 저장된 xml 파일을 읽어들여, 데이터 추출\n",
    "info = {}\n",
    "xml = open(filename, 'r', encoding='utf-8').read()\n",
    "soup = BeautifulSoup(xml, 'xml')\n",
    "\n",
    "# find_all(\"location\") : <location> 태그들을 읽어옴\n",
    "for location in soup.find_all(\"location\"):\n",
    "    city = location.find('city').string     # 도시\n",
    "    min_t = location.find('tmn')            # 최저기온\n",
    "    max_t = location.find('tmx')            # 최고기온\n",
    "    weather = [ a.string+\"~\"+b.string for a, b in zip(min_t, max_t) ]\n",
    "    print(f'{city} : {min_t} ~ {max_t}')\n",
    "    print(weather)\n",
    "    \n",
    "    \n",
    "    "
   ]
  },
  {
   "cell_type": "code",
   "execution_count": null,
   "metadata": {},
   "outputs": [],
   "source": []
  }
 ],
 "metadata": {
  "kernelspec": {
   "display_name": "Python 3",
   "language": "python",
   "name": "python3"
  },
  "language_info": {
   "codemirror_mode": {
    "name": "ipython",
    "version": 3
   },
   "file_extension": ".py",
   "mimetype": "text/x-python",
   "name": "python",
   "nbconvert_exporter": "python",
   "pygments_lexer": "ipython3",
   "version": "3.11.4"
  },
  "orig_nbformat": 4
 },
 "nbformat": 4,
 "nbformat_minor": 2
}
