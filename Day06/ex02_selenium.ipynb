{
 "cells": [
  {
   "attachments": {},
   "cell_type": "markdown",
   "metadata": {},
   "source": [
    "### 셀레니움 설치"
   ]
  },
  {
   "cell_type": "code",
   "execution_count": null,
   "metadata": {},
   "outputs": [],
   "source": [
    "# 셀레니움 설치\n",
    "pip install selenium\n",
    "\n",
    "# 설치 확인\n",
    "pip show selenium"
   ]
  },
  {
   "attachments": {},
   "cell_type": "markdown",
   "metadata": {},
   "source": [
    "### Webdriver 실행하기"
   ]
  },
  {
   "cell_type": "code",
   "execution_count": null,
   "metadata": {},
   "outputs": [],
   "source": [
    "from selenium import webdrier"
   ]
  },
  {
   "cell_type": "code",
   "execution_count": 1,
   "metadata": {},
   "outputs": [
    {
     "ename": "NameError",
     "evalue": "name 'time' is not defined",
     "output_type": "error",
     "traceback": [
      "\u001b[1;31m---------------------------------------------------------------------------\u001b[0m",
      "\u001b[1;31mNameError\u001b[0m                                 Traceback (most recent call last)",
      "Cell \u001b[1;32mIn[1], line 8\u001b[0m\n\u001b[0;32m      6\u001b[0m \u001b[39m# url 이동\u001b[39;00m\n\u001b[0;32m      7\u001b[0m driver\u001b[39m.\u001b[39mget(\u001b[39m'\u001b[39m\u001b[39mhttps://www.naver.com\u001b[39m\u001b[39m'\u001b[39m)\n\u001b[1;32m----> 8\u001b[0m time\u001b[39m.\u001b[39msleep(\u001b[39m2\u001b[39m)       \u001b[39m# 2초간 기다리기\u001b[39;00m\n\u001b[0;32m      9\u001b[0m \u001b[39m# 검색창 선택\u001b[39;00m\n\u001b[0;32m     10\u001b[0m target \u001b[39m=\u001b[39m driver\u001b[39m.\u001b[39mfind_element( By\u001b[39m.\u001b[39mCSS_SELECTOR, \u001b[39m'\u001b[39m\u001b[39m#query\u001b[39m\u001b[39m'\u001b[39m )\n",
      "\u001b[1;31mNameError\u001b[0m: name 'time' is not defined"
     ]
    }
   ],
   "source": [
    "from selenium import webdriver\n",
    "from selenium.webdriver.common.keys import Keys\n",
    "from selenium.webdriver.common.by import By\n",
    "driver = webdriver.Chrome()\n",
    "\n",
    "# url 이동\n",
    "driver.get('https://www.naver.com')\n",
    "time.sleep(2)       # 2초간 기다리기\n",
    "# 검색창 선택\n",
    "target = driver.find_element( By.CSS_SELECTOR, '#query' )\n",
    "# 검색어 \"여름\" 입력\n",
    "target.send_keys(\"여름\")\n",
    "# 엔터 키 입력\n",
    "target.send_keys( Keys.ENTER )"
   ]
  },
  {
   "cell_type": "code",
   "execution_count": null,
   "metadata": {},
   "outputs": [],
   "source": [
    "# 드라이버 실행\n",
    "driver = webdriver.Chrome()\n",
    "driver.get('https://www.naver.com/')\n"
   ]
  },
  {
   "cell_type": "code",
   "execution_count": null,
   "metadata": {},
   "outputs": [],
   "source": [
    "# ID 선택\n",
    "target = driver.find_element( By.ID, 'query' )"
   ]
  },
  {
   "cell_type": "code",
   "execution_count": null,
   "metadata": {},
   "outputs": [],
   "source": [
    "# class 선택\n",
    "target = driver.find_element( By.CLASS_NAME, 'search_input')"
   ]
  },
  {
   "cell_type": "code",
   "execution_count": null,
   "metadata": {},
   "outputs": [],
   "source": [
    "# CSS 선택자\n",
    "target = driver.find_element( By.CSS_SELECTOR, '#query')"
   ]
  },
  {
   "cell_type": "code",
   "execution_count": null,
   "metadata": {},
   "outputs": [],
   "source": [
    "# 태그 이름 선택\n",
    "target = driver.find_element( By.TAG_NAME, 'title' )"
   ]
  },
  {
   "cell_type": "code",
   "execution_count": null,
   "metadata": {},
   "outputs": [],
   "source": [
    "# 선택한 요소에 키 입력\n",
    "target.send_keys('키워드')"
   ]
  },
  {
   "cell_type": "code",
   "execution_count": null,
   "metadata": {},
   "outputs": [],
   "source": [
    "# 선택한 요소에 엔터 키\n",
    "target.send_keys(Keys.ENTER)"
   ]
  },
  {
   "attachments": {},
   "cell_type": "markdown",
   "metadata": {},
   "source": [
    "### 버튼 클릭하기"
   ]
  },
  {
   "cell_type": "code",
   "execution_count": null,
   "metadata": {},
   "outputs": [],
   "source": [
    "target = driver.find_element( By.CSS_SELECTOR, '[class^=\"MyView-module__link_login]')\n",
    "target.click()"
   ]
  },
  {
   "attachments": {},
   "cell_type": "markdown",
   "metadata": {},
   "source": [
    "# 페이징 처리된 데이터 크롤링하기 - 메가박스 영화 실관람평"
   ]
  },
  {
   "cell_type": "code",
   "execution_count": null,
   "metadata": {},
   "outputs": [],
   "source": [
    "from selenium import webdriver\n",
    "from selenium.webdriver.common.keys import Keys\n",
    "from selenium.webdriver.common.by import By\n",
    "import time\n",
    "\n",
    "url = 'https'"
   ]
  },
  {
   "attachments": {},
   "cell_type": "markdown",
   "metadata": {},
   "source": [
    "### 자바스크립트를 이용하여 처리하기"
   ]
  },
  {
   "cell_type": "code",
   "execution_count": 2,
   "metadata": {},
   "outputs": [],
   "source": [
    "driver.execute_script(' alert(\"js\")')"
   ]
  },
  {
   "cell_type": "code",
   "execution_count": null,
   "metadata": {},
   "outputs": [],
   "source": []
  },
  {
   "cell_type": "code",
   "execution_count": null,
   "metadata": {},
   "outputs": [],
   "source": [
    "# yes24 리뷰 가져오기."
   ]
  },
  {
   "cell_type": "code",
   "execution_count": null,
   "metadata": {},
   "outputs": [],
   "source": [
    "### 요소가 렌더링 될 때까지, 기다렸다가 처리하기\n",
    "\n",
    "from selenium import webdriver\n",
    "from selenium.webdriver.common.by import By\n",
    "\n",
    "url = 'https://www.yes24.com/Product/Goods/117014613'\n",
    "driver = webdriver.Chrome()\n",
    "driver.get(url)\n",
    "\n",
    "temp_list = []\n",
    "time.sleep(3)\n",
    "stop_flag = False\n",
    "\n",
    "while True:\n",
    "\n",
    "    # 페이지 반복\n",
    "    for n in range(4, 13):\n",
    "        readmores = driver.find_elements( By.CSS_SELECTOR, '#infoset_reviewContentList .review_more' )\n",
    "        for more in readmores:\n",
    "            # more.click()\n",
    "            # arguments[0] : more 요소를 가지고 arguments[0]로 첫번째 요소를 지정.\n",
    "            driver.execute_script('arguments[0].click()', more)\n",
    "            time.sleep(2)\n",
    "        \n",
    "        reviewList = driver.find_elements( By.CSS_SELECTOR, '#infoset_reviewContentList div.review_cont' )    # 리뷰 내용\n",
    "        time.sleep(2)\n",
    "        \n",
    "        \n",
    "        # 리뷰 내용 태그의 텍스트만 추출\n",
    "        for review in reviewList:\n",
    "            temp_list.append(review.text)\n",
    "        \n",
    "        if len(reviewList) < 5:\n",
    "            stop_flag = True:\n",
    "        \n",
    "        if stop_flag == True:\n",
    "            break\n",
    "        \n",
    "        # 다음 페이지로 이동\n",
    "        next_link = '#infoset_reviewContentList > div.review_sort.sortBot > div.review_sortLft'\n",
    "        page = driver.find_element( By.CSS_SELECTOR, next_link )\n",
    "        page.click()\n",
    "        time.sleep(2)"
   ]
  }
 ],
 "metadata": {
  "kernelspec": {
   "display_name": "Python 3",
   "language": "python",
   "name": "python3"
  },
  "language_info": {
   "codemirror_mode": {
    "name": "ipython",
    "version": 3
   },
   "file_extension": ".py",
   "mimetype": "text/x-python",
   "name": "python",
   "nbconvert_exporter": "python",
   "pygments_lexer": "ipython3",
   "version": "3.11.4"
  },
  "orig_nbformat": 4
 },
 "nbformat": 4,
 "nbformat_minor": 2
}
